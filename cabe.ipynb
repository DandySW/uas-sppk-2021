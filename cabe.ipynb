{
  "cells": [
    {
      "cell_type": "markdown",
      "metadata": {
        "id": "X1c4hoZcXeVo"
      },
      "source": [
        "# **1. Memasukkan Data dan Melihat Jumlah Alternatif & Kriteria**"
      ]
    },
    {
      "cell_type": "code",
      "execution_count": 9,
      "metadata": {
        "colab": {
          "base_uri": "https://localhost:8080/",
          "height": 602
        },
        "id": "nQVCLSLv-2l0",
        "outputId": "da8e4622-a281-4652-bf05-9640f84bd5e2"
      },
      "outputs": [
        {
          "name": "stdout",
          "output_type": "stream",
          "text": [
            "<class 'pandas.core.frame.DataFrame'>\n",
            "RangeIndex: 6 entries, 0 to 5\n",
            "Data columns (total 13 columns):\n",
            " #   Column                                                    Non-Null Count  Dtype \n",
            "---  ------                                                    --------------  ----- \n",
            " 0   Alternatif                                                6 non-null      object\n",
            " 1   Daun Mengalami Kelayuan                                   6 non-null      object\n",
            " 2   Daun Menguning dan Menjalar ke Ranting                    6 non-null      object\n",
            " 3   Warna Jaringan Akar dan Batang menjadi Coklat             6 non-null      object\n",
            " 4   Layu secara tiba-tiba                                     6 non-null      object\n",
            " 5   Semua Daun Layu tetapi Tidak Berubah Warnanya             6 non-null      object\n",
            " 6   Jaringan Veskuler dari Batang Bagian Bawah Akar Coklat    6 non-null      object\n",
            " 7   Pucuk Daun Berubah Menjadi Kuning Jelas                   6 non-null      object\n",
            " 8   Tulang Daun Menebal dan Daun Menggulung Ke Atas           6 non-null      object\n",
            " 9   Tanaman Kerdil dan Tidak Berbuah                          6 non-null      object\n",
            " 10  Muncul bercak bulat berwarna coklat pada Daun dan Kering  6 non-null      object\n",
            " 11  Bercak berwarna pucat putih dengan warna tepi lebih tua   6 non-null      object\n",
            " 12  Terdapat Lubang pada bercak tua                           6 non-null      object\n",
            "dtypes: object(13)\n",
            "memory usage: 752.0+ bytes\n",
            "None\n"
          ]
        }
      ],
      "source": [
        "#Import file CSV\n",
        "import pandas as pd\n",
        "\n",
        "df = pd.read_csv('cabe.csv')\n",
        "df"
      ]
    },
    {
      "cell_type": "code",
      "execution_count": 199,
      "metadata": {
        "colab": {
          "base_uri": "https://localhost:8080/"
        },
        "id": "V3xY15uHKYNG",
        "outputId": "2fee508c-18ce-4f73-e543-b24a964ca354"
      },
      "outputs": [
        {
          "name": "stdout",
          "output_type": "stream",
          "text": [
            "jumlah kolom: 13\n",
            "jumlah baris: 6\n"
          ]
        }
      ],
      "source": [
        "#Mencari jumlah Kolom\n",
        "count_columns = len(df.columns)\n",
        "print('jumlah kolom: ' + str(count_columns))\n",
        "\n",
        "#Mencari jumlah Baris\n",
        "count_rows = len(df)\n",
        "print('jumlah baris: ' + str(count_rows))"
      ]
    },
    {
      "cell_type": "markdown",
      "metadata": {
        "id": "6vnyYukwXn77"
      },
      "source": [
        "# **2. Matriks Keputusan Ternormalisasi**"
      ]
    },
    {
      "cell_type": "code",
      "execution_count": 200,
      "metadata": {
        "colab": {
          "base_uri": "https://localhost:8080/"
        },
        "id": "hg1j2J9S2IhV",
        "outputId": "c4fdcf1c-23ab-4916-8bdd-afa9a61b06e0"
      },
      "outputs": [
        {
          "data": {
            "text/plain": [
              "Daun Mengalami Kelayuan                                     7.141428\n",
              "Daun Menguning dan Menjalar ke Ranting                      8.124038\n",
              "Warna Jaringan Akar dan Batang menjadi Coklat               8.000000\n",
              "Layu secara tiba-tiba                                       8.124038\n",
              "Semua Daun Layu tetapi Tidak Berubah Warnanya               7.681146\n",
              "Jaringan Veskuler dari Batang Bagian Bawah Akar Coklat      7.071068\n",
              "Pucuk Daun Berubah Menjadi Kuning Jelas                     7.071068\n",
              "Tulang Daun Menebal dan Daun Menggulung Ke Atas             6.708204\n",
              "Tanaman Kerdil dan Tidak Berbuah                            6.708204\n",
              "Muncul bercak bulat berwarna coklat pada Daun dan Kering    7.071068\n",
              "Bercak berwarna pucat putih dengan warna tepi lebih tua     6.557439\n",
              "Terdapat Lubang pada bercak tua                             6.708204\n",
              "dtype: float64"
            ]
          },
          "execution_count": 200,
          "metadata": {},
          "output_type": "execute_result"
        }
      ],
      "source": [
        "#Membuang baris Kategori & Bobot dan kolom Alternatif\n",
        "df2 = df.drop([count_rows-2, count_rows-1])\n",
        "df2 = df2.drop('Alternatif', axis='columns').astype(int)\n",
        "\n",
        "#Tiap-tiap bobot dikuadratkan\n",
        "df2_square = df2**2\n",
        "\n",
        "#Menjumlahkan kuadrat dari setiap kriteria dan diakar\n",
        "sqrt = df2_square.sum()**0.5\n",
        "sqrt"
      ]
    },
    {
      "cell_type": "code",
      "execution_count": 201,
      "metadata": {
        "colab": {
          "base_uri": "https://localhost:8080/",
          "height": 279
        },
        "id": "z4mh085tAANi",
        "outputId": "3bf16a27-f3e7-43d8-c8a7-3fcad2851c95"
      },
      "outputs": [
        {
          "data": {
            "text/html": [
              "<div>\n",
              "<style scoped>\n",
              "    .dataframe tbody tr th:only-of-type {\n",
              "        vertical-align: middle;\n",
              "    }\n",
              "\n",
              "    .dataframe tbody tr th {\n",
              "        vertical-align: top;\n",
              "    }\n",
              "\n",
              "    .dataframe thead th {\n",
              "        text-align: right;\n",
              "    }\n",
              "</style>\n",
              "<table border=\"1\" class=\"dataframe\">\n",
              "  <thead>\n",
              "    <tr style=\"text-align: right;\">\n",
              "      <th></th>\n",
              "      <th>Daun Mengalami Kelayuan</th>\n",
              "      <th>Daun Menguning dan Menjalar ke Ranting</th>\n",
              "      <th>Warna Jaringan Akar dan Batang menjadi Coklat</th>\n",
              "      <th>Layu secara tiba-tiba</th>\n",
              "      <th>Semua Daun Layu tetapi Tidak Berubah Warnanya</th>\n",
              "      <th>Jaringan Veskuler dari Batang Bagian Bawah Akar Coklat</th>\n",
              "      <th>Pucuk Daun Berubah Menjadi Kuning Jelas</th>\n",
              "      <th>Tulang Daun Menebal dan Daun Menggulung Ke Atas</th>\n",
              "      <th>Tanaman Kerdil dan Tidak Berbuah</th>\n",
              "      <th>Muncul bercak bulat berwarna coklat pada Daun dan Kering</th>\n",
              "      <th>Bercak berwarna pucat putih dengan warna tepi lebih tua</th>\n",
              "      <th>Terdapat Lubang pada bercak tua</th>\n",
              "    </tr>\n",
              "  </thead>\n",
              "  <tbody>\n",
              "    <tr>\n",
              "      <th>0</th>\n",
              "      <td>0.700140</td>\n",
              "      <td>0.615457</td>\n",
              "      <td>0.5</td>\n",
              "      <td>0.492366</td>\n",
              "      <td>0.520756</td>\n",
              "      <td>0.424264</td>\n",
              "      <td>0.424264</td>\n",
              "      <td>0.596285</td>\n",
              "      <td>0.596285</td>\n",
              "      <td>0.424264</td>\n",
              "      <td>0.457496</td>\n",
              "      <td>0.596285</td>\n",
              "    </tr>\n",
              "    <tr>\n",
              "      <th>1</th>\n",
              "      <td>0.140028</td>\n",
              "      <td>0.492366</td>\n",
              "      <td>0.5</td>\n",
              "      <td>0.615457</td>\n",
              "      <td>0.650945</td>\n",
              "      <td>0.565685</td>\n",
              "      <td>0.424264</td>\n",
              "      <td>0.447214</td>\n",
              "      <td>0.298142</td>\n",
              "      <td>0.424264</td>\n",
              "      <td>0.457496</td>\n",
              "      <td>0.298142</td>\n",
              "    </tr>\n",
              "    <tr>\n",
              "      <th>2</th>\n",
              "      <td>0.560112</td>\n",
              "      <td>0.492366</td>\n",
              "      <td>0.5</td>\n",
              "      <td>0.369274</td>\n",
              "      <td>0.390567</td>\n",
              "      <td>0.565685</td>\n",
              "      <td>0.565685</td>\n",
              "      <td>0.596285</td>\n",
              "      <td>0.596285</td>\n",
              "      <td>0.565685</td>\n",
              "      <td>0.457496</td>\n",
              "      <td>0.447214</td>\n",
              "    </tr>\n",
              "    <tr>\n",
              "      <th>3</th>\n",
              "      <td>0.420084</td>\n",
              "      <td>0.369274</td>\n",
              "      <td>0.5</td>\n",
              "      <td>0.492366</td>\n",
              "      <td>0.390567</td>\n",
              "      <td>0.424264</td>\n",
              "      <td>0.565685</td>\n",
              "      <td>0.298142</td>\n",
              "      <td>0.447214</td>\n",
              "      <td>0.565685</td>\n",
              "      <td>0.609994</td>\n",
              "      <td>0.596285</td>\n",
              "    </tr>\n",
              "  </tbody>\n",
              "</table>\n",
              "</div>"
            ],
            "text/plain": [
              "   Daun Mengalami Kelayuan  ...  Terdapat Lubang pada bercak tua\n",
              "0                 0.700140  ...                         0.596285\n",
              "1                 0.140028  ...                         0.298142\n",
              "2                 0.560112  ...                         0.447214\n",
              "3                 0.420084  ...                         0.596285\n",
              "\n",
              "[4 rows x 12 columns]"
            ]
          },
          "execution_count": 201,
          "metadata": {},
          "output_type": "execute_result"
        }
      ],
      "source": [
        "#Menghitung nilai R\n",
        "df2_norm = df2 / sqrt\n",
        "df2_norm"
      ]
    },
    {
      "cell_type": "markdown",
      "metadata": {
        "id": "6cOMj-p5kKnQ"
      },
      "source": [
        "# **3. Menentukan Matriks Keputusan Ternormalisasi Terbobot**"
      ]
    },
    {
      "cell_type": "code",
      "execution_count": 202,
      "metadata": {
        "colab": {
          "base_uri": "https://localhost:8080/",
          "height": 279
        },
        "id": "vzOywA8AkXwA",
        "outputId": "8a4f69dd-4b35-4305-fab8-c6223c5c3115"
      },
      "outputs": [
        {
          "data": {
            "text/html": [
              "<div>\n",
              "<style scoped>\n",
              "    .dataframe tbody tr th:only-of-type {\n",
              "        vertical-align: middle;\n",
              "    }\n",
              "\n",
              "    .dataframe tbody tr th {\n",
              "        vertical-align: top;\n",
              "    }\n",
              "\n",
              "    .dataframe thead th {\n",
              "        text-align: right;\n",
              "    }\n",
              "</style>\n",
              "<table border=\"1\" class=\"dataframe\">\n",
              "  <thead>\n",
              "    <tr style=\"text-align: right;\">\n",
              "      <th></th>\n",
              "      <th>Daun Mengalami Kelayuan</th>\n",
              "      <th>Daun Menguning dan Menjalar ke Ranting</th>\n",
              "      <th>Warna Jaringan Akar dan Batang menjadi Coklat</th>\n",
              "      <th>Layu secara tiba-tiba</th>\n",
              "      <th>Semua Daun Layu tetapi Tidak Berubah Warnanya</th>\n",
              "      <th>Jaringan Veskuler dari Batang Bagian Bawah Akar Coklat</th>\n",
              "      <th>Pucuk Daun Berubah Menjadi Kuning Jelas</th>\n",
              "      <th>Tulang Daun Menebal dan Daun Menggulung Ke Atas</th>\n",
              "      <th>Tanaman Kerdil dan Tidak Berbuah</th>\n",
              "      <th>Muncul bercak bulat berwarna coklat pada Daun dan Kering</th>\n",
              "      <th>Bercak berwarna pucat putih dengan warna tepi lebih tua</th>\n",
              "      <th>Terdapat Lubang pada bercak tua</th>\n",
              "    </tr>\n",
              "  </thead>\n",
              "  <tbody>\n",
              "    <tr>\n",
              "      <th>0</th>\n",
              "      <td>3.50070</td>\n",
              "      <td>2.461830</td>\n",
              "      <td>2.0</td>\n",
              "      <td>1.969464</td>\n",
              "      <td>2.603778</td>\n",
              "      <td>2.121320</td>\n",
              "      <td>2.121320</td>\n",
              "      <td>2.981424</td>\n",
              "      <td>2.385139</td>\n",
              "      <td>1.697056</td>\n",
              "      <td>1.829983</td>\n",
              "      <td>2.981424</td>\n",
              "    </tr>\n",
              "    <tr>\n",
              "      <th>1</th>\n",
              "      <td>0.70014</td>\n",
              "      <td>1.969464</td>\n",
              "      <td>2.0</td>\n",
              "      <td>2.461830</td>\n",
              "      <td>3.254723</td>\n",
              "      <td>2.828427</td>\n",
              "      <td>2.121320</td>\n",
              "      <td>2.236068</td>\n",
              "      <td>1.192570</td>\n",
              "      <td>1.697056</td>\n",
              "      <td>1.829983</td>\n",
              "      <td>1.490712</td>\n",
              "    </tr>\n",
              "    <tr>\n",
              "      <th>2</th>\n",
              "      <td>2.80056</td>\n",
              "      <td>1.969464</td>\n",
              "      <td>2.0</td>\n",
              "      <td>1.477098</td>\n",
              "      <td>1.952834</td>\n",
              "      <td>2.828427</td>\n",
              "      <td>2.828427</td>\n",
              "      <td>2.981424</td>\n",
              "      <td>2.385139</td>\n",
              "      <td>2.262742</td>\n",
              "      <td>1.829983</td>\n",
              "      <td>2.236068</td>\n",
              "    </tr>\n",
              "    <tr>\n",
              "      <th>3</th>\n",
              "      <td>2.10042</td>\n",
              "      <td>1.477098</td>\n",
              "      <td>2.0</td>\n",
              "      <td>1.969464</td>\n",
              "      <td>1.952834</td>\n",
              "      <td>2.121320</td>\n",
              "      <td>2.828427</td>\n",
              "      <td>1.490712</td>\n",
              "      <td>1.788854</td>\n",
              "      <td>2.262742</td>\n",
              "      <td>2.439977</td>\n",
              "      <td>2.981424</td>\n",
              "    </tr>\n",
              "  </tbody>\n",
              "</table>\n",
              "</div>"
            ],
            "text/plain": [
              "   Daun Mengalami Kelayuan  ...  Terdapat Lubang pada bercak tua\n",
              "0                  3.50070  ...                         2.981424\n",
              "1                  0.70014  ...                         1.490712\n",
              "2                  2.80056  ...                         2.236068\n",
              "3                  2.10042  ...                         2.981424\n",
              "\n",
              "[4 rows x 12 columns]"
            ]
          },
          "execution_count": 202,
          "metadata": {},
          "output_type": "execute_result"
        }
      ],
      "source": [
        "#Menghitung nilai Y\n",
        "df2_weight = df2_norm * df.iloc[-1,1:count_columns].astype(int)\n",
        "df2_weight"
      ]
    },
    {
      "cell_type": "markdown",
      "metadata": {
        "id": "x-glVCkDvPFV"
      },
      "source": [
        "# **4. Menentukan matriks solusi ideal positif & matriks solusi ideal negatif**"
      ]
    },
    {
      "cell_type": "code",
      "execution_count": 204,
      "metadata": {
        "colab": {
          "base_uri": "https://localhost:8080/"
        },
        "id": "BTrjqdXIl-v6",
        "outputId": "fa47b65f-4cd7-4e42-9b89-c1981c1b4a31"
      },
      "outputs": [
        {
          "name": "stdout",
          "output_type": "stream",
          "text": [
            "[0.7001400420140048, 1.4770978917519928, 2.0, 1.4770978917519928, 1.952833664712358, 2.1213203435596424, 2.1213203435596424, 1.4907119849998598, 1.1925695879998879, 1.697056274847714, 1.829982843991256, 1.4907119849998598]\n",
            "[3.500700210070024, 2.4618298195866544, 2.0, 2.4618298195866544, 3.254722774520597, 2.82842712474619, 2.82842712474619, 2.9814239699997196, 2.3851391759997758, 2.262741699796952, 2.4399771253216747, 2.9814239699997196]\n"
          ]
        }
      ],
      "source": [
        "A_plus_minus = {\n",
        "    'A_plus'  : [],\n",
        "    'A_minus' : []\n",
        "}\n",
        "\n",
        "for column in range(1, count_columns):\n",
        "\n",
        "  #Kondisi jika kategori dari kriteria adalah benefit\n",
        "  if df.iloc[-2,column] == 'benefit':\n",
        "    A_plus_minus['A_plus'].append(df2_weight.iloc[:,column-1].max())\n",
        "    A_plus_minus['A_minus'].append(df2_weight.iloc[:,column-1].mmin())\n",
        "\n",
        "  #Kondisi jika kategori dari kriteria adalah cost  \n",
        "  else:\n",
        "    A_plus_minus['A_plus'].append(df2_weight.iloc[:,column-1].min())\n",
        "    A_plus_minus['A_minus'].append(df2_weight.iloc[:,column-1].max())\n",
        "\n",
        "print(A_plus_minus['A_plus'])\n",
        "print(A_plus_minus['A_minus'])"
      ]
    },
    {
      "cell_type": "markdown",
      "metadata": {
        "id": "MXaQdRaFwWll"
      },
      "source": [
        "# **5. Menentukan Jarak Antara Nilai Setiap Alternatif dengan Matriks Solusi Ideal Positif dan Matriks Solusi Ideal Negatif**"
      ]
    },
    {
      "cell_type": "code",
      "execution_count": 210,
      "metadata": {
        "colab": {
          "base_uri": "https://localhost:8080/"
        },
        "id": "bJ6XQquywbfS",
        "outputId": "9bdcfb7d-5de5-4f46-9c41-5a9417f13f55"
      },
      "outputs": [
        {
          "name": "stdout",
          "output_type": "stream",
          "text": [
            "[3.917352926052127, 1.9906260376861487, 3.189700448052543, 2.44398841183491]\n",
            "[1.53565819088734, 3.671192520228545, 2.079634853430102, 2.8187938125839866]\n"
          ]
        }
      ],
      "source": [
        "#Mencari nilai D+ dan D-\n",
        "D_plus_minus = {\n",
        "    'D_plus'  : [],\n",
        "    'D_minus' : []\n",
        "}\n",
        "\n",
        "D_plus_square = (df2_weight - A_plus_minus['A_plus'])**2\n",
        "D_minus_square = (df2_weight - A_plus_minus['A_minus'])**2\n",
        "\n",
        "for row in range(count_rows-2):\n",
        "  D_plus = (D_plus_square.loc[row].sum())**0.5\n",
        "  D_minus = (D_minus_square.loc[row].sum())**0.5\n",
        "\n",
        "  D_plus_minus['D_plus'].append(D_plus)\n",
        "  D_plus_minus['D_minus'].append(D_minus)\n",
        "\n",
        "print(D_plus_minus['D_plus'])\n",
        "print(D_plus_minus['D_minus'])"
      ]
    },
    {
      "cell_type": "markdown",
      "metadata": {
        "id": "0bxwVGPCMm4t"
      },
      "source": [
        "# **6. Mencari nilai preferensi untuk setiap alternatif**"
      ]
    },
    {
      "cell_type": "code",
      "execution_count": 206,
      "metadata": {
        "colab": {
          "base_uri": "https://localhost:8080/"
        },
        "id": "-K5zEn5ZJx1o",
        "outputId": "2649961e-d485-4977-eeca-db50241e1986"
      },
      "outputs": [
        {
          "data": {
            "text/plain": [
              "[0.2816165523882586,\n",
              " 0.6484122517660974,\n",
              " 0.39466739815265706,\n",
              " 0.5356090547514971]"
            ]
          },
          "execution_count": 206,
          "metadata": {},
          "output_type": "execute_result"
        }
      ],
      "source": [
        "#Mencari nilai V\n",
        "total = []\n",
        "for row in range(count_rows-2):\n",
        "  v = D_plus_minus['D_minus'][row] / (D_plus_minus['D_minus'][row] + D_plus_minus['D_plus'][row])\n",
        "  total.append(v)\n",
        "total"
      ]
    },
    {
      "cell_type": "code",
      "execution_count": 207,
      "metadata": {
        "colab": {
          "base_uri": "https://localhost:8080/",
          "height": 174
        },
        "id": "g_pZbfitNfBj",
        "outputId": "01772cc8-b6f7-47f3-8b50-629b73b1f873"
      },
      "outputs": [
        {
          "data": {
            "text/html": [
              "<div>\n",
              "<style scoped>\n",
              "    .dataframe tbody tr th:only-of-type {\n",
              "        vertical-align: middle;\n",
              "    }\n",
              "\n",
              "    .dataframe tbody tr th {\n",
              "        vertical-align: top;\n",
              "    }\n",
              "\n",
              "    .dataframe thead th {\n",
              "        text-align: right;\n",
              "    }\n",
              "</style>\n",
              "<table border=\"1\" class=\"dataframe\">\n",
              "  <thead>\n",
              "    <tr style=\"text-align: right;\">\n",
              "      <th></th>\n",
              "      <th>Alternatif</th>\n",
              "      <th>Total</th>\n",
              "      <th>Ranking</th>\n",
              "    </tr>\n",
              "  </thead>\n",
              "  <tbody>\n",
              "    <tr>\n",
              "      <th>0</th>\n",
              "      <td>Penyakit Layu Bakteri Ralstonia (Ralstonia Sol...</td>\n",
              "      <td>0.281617</td>\n",
              "      <td>4.0</td>\n",
              "    </tr>\n",
              "    <tr>\n",
              "      <th>1</th>\n",
              "      <td>Layu Fuserium (Fuserium Oxysporum Sp)</td>\n",
              "      <td>0.648412</td>\n",
              "      <td>1.0</td>\n",
              "    </tr>\n",
              "    <tr>\n",
              "      <th>2</th>\n",
              "      <td>Penyakit Virus Kuning (Gemini Virus)</td>\n",
              "      <td>0.394667</td>\n",
              "      <td>3.0</td>\n",
              "    </tr>\n",
              "    <tr>\n",
              "      <th>3</th>\n",
              "      <td>Penyakit Bercak Daun (Cercospora sp.)</td>\n",
              "      <td>0.535609</td>\n",
              "      <td>2.0</td>\n",
              "    </tr>\n",
              "  </tbody>\n",
              "</table>\n",
              "</div>"
            ],
            "text/plain": [
              "                                          Alternatif     Total  Ranking\n",
              "0  Penyakit Layu Bakteri Ralstonia (Ralstonia Sol...  0.281617      4.0\n",
              "1              Layu Fuserium (Fuserium Oxysporum Sp)  0.648412      1.0\n",
              "2               Penyakit Virus Kuning (Gemini Virus)  0.394667      3.0\n",
              "3              Penyakit Bercak Daun (Cercospora sp.)  0.535609      2.0"
            ]
          },
          "execution_count": 207,
          "metadata": {},
          "output_type": "execute_result"
        }
      ],
      "source": [
        "#Memberikan ranking untuk setiap alternatif\n",
        "df3 = df[['Alternatif']]\n",
        "df3 = df3.drop([count_rows-2, count_rows-1])\n",
        "df3.insert(1, 'Total', total)\n",
        "\n",
        "ranking = df3.iloc[:,1].rank(ascending=False)\n",
        "df3.insert(2, 'Ranking', ranking)\n",
        "df3"
      ]
    }
  ],
  "metadata": {
    "colab": {
      "collapsed_sections": [],
      "name": "SPPK Cabe-cabean.ipynb",
      "provenance": []
    },
    "kernelspec": {
      "display_name": "Python 3",
      "name": "python3"
    },
    "language_info": {
      "name": "python"
    }
  },
  "nbformat": 4,
  "nbformat_minor": 0
}
